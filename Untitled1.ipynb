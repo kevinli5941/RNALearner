{
 "cells": [
  {
   "cell_type": "code",
   "execution_count": 3,
   "id": "59ec6337-7dcf-45eb-a5cf-ede3f393e953",
   "metadata": {},
   "outputs": [],
   "source": [
    "import pandas as pd\n",
    "import matplotlib.pyplot as plt"
   ]
  },
  {
   "cell_type": "code",
   "execution_count": 7,
   "id": "7d148d55-1e5d-4ca7-8cc8-e0b4766007e5",
   "metadata": {},
   "outputs": [
    {
     "data": {
      "text/plain": [
       "<matplotlib.collections.PathCollection at 0x150be9f50370>"
      ]
     },
     "execution_count": 7,
     "metadata": {},
     "output_type": "execute_result"
    },
    {
     "data": {
      "image/png": "[encoded data removed]",
      "text/plain": [
       "<Figure size 640x480 with 1 Axes>"
      ]
     },
     "metadata": {},
     "output_type": "display_data"
    }
   ],
   "source": [
    "x = range(29)\n",
    "y = [0.679, 0.594, 0.523, 0.483, 0.454, 0.436, 0.418, 0.413, 0.406, 0.3885, 0.38538, 0.383033, 0.387471, 0.383742, 0.380357, 0.381816, 0.383088, 0.378318, 0.370718, 0.366730, 0.368716, 0.365086, 0.359747, 0.362955, 0.366982, 0.359374, 0.356864,0.357249, 0.367334]\n",
    "plt.scatter(x, y)"
   ]
  },
  {
   "cell_type": "code",
   "execution_count": 8,
   "id": "2142cce9-7b37-4a4f-8c59-a8e46f0ebbf0",
   "metadata": {},
   "outputs": [],
   "source": [
    "import numpy as np"
   ]
  },
  {
   "cell_type": "code",
   "execution_count": 13,
   "id": "d72cf5ff-33db-49b9-a638-f6c4a4a60dc8",
   "metadata": {},
   "outputs": [
    {
     "data": {
      "text/plain": [
       "(array(['hello', 'hi'], dtype='<U5'), array([1, 1, 0, 0, 0, 0]))"
      ]
     },
     "execution_count": 13,
     "metadata": {},
     "output_type": "execute_result"
    }
   ],
   "source": [
    "np.unique(np.array((\"hi\", \"hi\", \"hello\", \"hello\", \"hello\", \"hello\")), return_inverse=True)"
   ]
  },
  {
   "cell_type": "code",
   "execution_count": 14,
   "id": "73106775-0847-4570-91c3-665692c39ef4",
   "metadata": {},
   "outputs": [
    {
     "data": {
      "text/plain": [
       "[4, 2]"
      ]
     },
     "execution_count": 14,
     "metadata": {},
     "output_type": "execute_result"
    }
   ],
   "source": [
    "np.unique((1, 1, 0, 0, 0, 0), return_counts=True)[1].tolist()"
   ]
  },
  {
   "cell_type": "code",
   "execution_count": 1,
   "id": "36df700b-93d9-44b1-b6ba-0a184860a48e",
   "metadata": {},
   "outputs": [],
   "source": [
    "import scanpy as sc"
   ]
  },
  {
   "cell_type": "code",
   "execution_count": 4,
   "id": "5daa68dc-6868-498a-a9e3-49709a48e922",
   "metadata": {},
   "outputs": [],
   "source": [
    "x=sc.read_h5ad(\"data/osd105/osd105_preprocessed_ensembl_15117.h5ad\")"
   ]
  },
  {
   "cell_type": "code",
   "execution_count": 5,
   "id": "711c37e2-ff10-4991-86b4-2645291275d5",
   "metadata": {},
   "outputs": [
    {
     "data": {
      "text/plain": [
       "AnnData object with n_obs × n_vars = 12 × 15117\n",
       "    obs: 'Sample ID', 'y', 'n_genes'\n",
       "    uns: 'log1p'"
      ]
     },
     "execution_count": 5,
     "metadata": {},
     "output_type": "execute_result"
    }
   ],
   "source": [
    "x"
   ]
  },
  {
   "cell_type": "code",
   "execution_count": 8,
   "id": "d38a039c-1403-46d2-96f9-20f1a5b6e0ed",
   "metadata": {},
   "outputs": [
    {
     "data": {
      "text/plain": [
       "M23    FLT\n",
       "M24    FLT\n",
       "M25    FLT\n",
       "M26    FLT\n",
       "M27    FLT\n",
       "M28    FLT\n",
       "M33     GC\n",
       "M34     GC\n",
       "M35     GC\n",
       "M36     GC\n",
       "M37     GC\n",
       "M38     GC\n",
       "Name: y, dtype: category\n",
       "Categories (2, object): ['FLT', 'GC']"
      ]
     },
     "execution_count": 8,
     "metadata": {},
     "output_type": "execute_result"
    }
   ],
   "source": [
    "x.obs[\"y\"]"
   ]
  },
  {
   "cell_type": "code",
   "execution_count": 10,
   "id": "35275759-0a4a-42a6-a7eb-84abdf6583ab",
   "metadata": {},
   "outputs": [
    {
     "data": {
      "text/plain": [
       "matrix([[0.0000000e+00, 0.0000000e+00, 0.0000000e+00, ..., 2.7500233e-01,\n",
       "         6.0749894e-01, 5.3586411e-01],\n",
       "        [0.0000000e+00, 0.0000000e+00, 6.7974243e-04, ..., 3.1129417e-01,\n",
       "         6.5206695e-01, 5.1248145e-01],\n",
       "        [0.0000000e+00, 0.0000000e+00, 3.1550697e-04, ..., 3.2040483e-01,\n",
       "         6.3924032e-01, 5.2700311e-01],\n",
       "        ...,\n",
       "        [0.0000000e+00, 0.0000000e+00, 3.6404995e-04, ..., 2.6531401e-01,\n",
       "         6.6402185e-01, 5.3979397e-01],\n",
       "        [3.7122966e-04, 3.7122966e-04, 0.0000000e+00, ..., 2.6020002e-01,\n",
       "         6.3796556e-01, 5.2613729e-01],\n",
       "        [0.0000000e+00, 0.0000000e+00, 6.5800955e-04, ..., 2.9990819e-01,\n",
       "         6.5057677e-01, 5.4333943e-01]], dtype=float32)"
      ]
     },
     "execution_count": 10,
     "metadata": {},
     "output_type": "execute_result"
    }
   ],
   "source": [
    "x.X.todense()"
   ]
  },
  {
   "cell_type": "code",
   "execution_count": 11,
   "id": "326acbd4-d262-41c6-95a2-f37fb8a2db73",
   "metadata": {},
   "outputs": [
    {
     "name": "stdout",
     "output_type": "stream",
     "text": [
      "AnnData object with n_obs × n_vars = 12 × 15117\n",
      "    obs: 'Sample ID', 'y', 'n_genes'\n",
      "    uns: 'log1p'\n"
     ]
    }
   ],
   "source": [
    "print(x)"
   ]
  },
  {
   "cell_type": "code",
   "execution_count": 12,
   "id": "1a2165c0-5b0e-4177-886f-96ec55059d40",
   "metadata": {},
   "outputs": [
    {
     "data": {
      "text/plain": [
       "4"
      ]
     },
     "execution_count": 12,
     "metadata": {},
     "output_type": "execute_result"
    }
   ],
   "source": [
    "for i in range(5):\n",
    "    7\n",
    "    \n",
    "i"
   ]
  },
  {
   "cell_type": "code",
   "execution_count": null,
   "id": "8f9134da-215e-4877-b4f5-3f9ef2566d1e",
   "metadata": {},
   "outputs": [],
   "source": []
  }
 ],
 "metadata": {
  "kernelspec": {
   "display_name": "Python [conda env:.conda-scbert]",
   "language": "python",
   "name": "conda-env-.conda-scbert-py"
  },
  "language_info": {
   "codemirror_mode": {
    "name": "ipython",
    "version": 3
   },
   "file_extension": ".py",
   "mimetype": "text/x-python",
   "name": "python",
   "nbconvert_exporter": "python",
   "pygments_lexer": "ipython3",
   "version": "3.9.15"
  }
 },
 "nbformat": 4,
 "nbformat_minor": 5
}
