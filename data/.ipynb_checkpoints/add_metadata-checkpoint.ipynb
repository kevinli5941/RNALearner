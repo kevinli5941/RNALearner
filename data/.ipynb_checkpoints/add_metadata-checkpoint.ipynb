{
 "cells": [
  {
   "cell_type": "code",
   "execution_count": 4,
   "id": "bb0b878b-421a-4065-bd07-a1c4b229ab6b",
   "metadata": {},
   "outputs": [],
   "source": [
    "import pandas as pd\n",
    "import h5py\n",
    "import scanpy as sc\n",
    "from scipy import sparse"
   ]
  },
  {
   "cell_type": "code",
   "execution_count": 5,
   "id": "6df388d7-3ac8-42e0-afbd-e018d70b5a91",
   "metadata": {},
   "outputs": [
    {
     "name": "stderr",
     "output_type": "stream",
     "text": [
      "/home/kli3/.conda/envs/scbert/lib/python3.9/site-packages/anndata/_core/anndata.py:1830: UserWarning: Variable names are not unique. To make them unique, call `.var_names_make_unique`.\n",
      "  utils.warn_names_duplicates(\"var\")\n"
     ]
    }
   ],
   "source": [
    "data = sc.read_h5ad('recount3/mouse_FULL_sparse_with_geneIDs.h5ad')"
   ]
  },
  {
   "cell_type": "code",
   "execution_count": 27,
   "id": "719d7cc9-0ed8-4618-90d9-ea82033b4977",
   "metadata": {},
   "outputs": [
    {
     "name": "stderr",
     "output_type": "stream",
     "text": [
      "/home/kli3/.conda/envs/scbert/lib/python3.9/site-packages/IPython/core/interactiveshell.py:3457: DtypeWarning: Columns (9,10) have mixed types.Specify dtype option on import or set low_memory=False.\n",
      "  exec(code_obj, self.user_global_ns, self.user_ns)\n"
     ]
    },
    {
     "data": {
      "text/html": [
       "<div>\n",
       "<style scoped>\n",
       "    .dataframe tbody tr th:only-of-type {\n",
       "        vertical-align: middle;\n",
       "    }\n",
       "\n",
       "    .dataframe tbody tr th {\n",
       "        vertical-align: top;\n",
       "    }\n",
       "\n",
       "    .dataframe thead th {\n",
       "        text-align: right;\n",
       "    }\n",
       "</style>\n",
       "<table border=\"1\" class=\"dataframe\">\n",
       "  <thead>\n",
       "    <tr style=\"text-align: right;\">\n",
       "      <th></th>\n",
       "      <th>external_id</th>\n",
       "      <th>pattern.predict.type</th>\n",
       "    </tr>\n",
       "  </thead>\n",
       "  <tbody>\n",
       "    <tr>\n",
       "      <th>0</th>\n",
       "      <td>DRR091074</td>\n",
       "      <td>rna-seq</td>\n",
       "    </tr>\n",
       "    <tr>\n",
       "      <th>1</th>\n",
       "      <td>DRR091075</td>\n",
       "      <td>rna-seq</td>\n",
       "    </tr>\n",
       "    <tr>\n",
       "      <th>2</th>\n",
       "      <td>DRR091076</td>\n",
       "      <td>rna-seq</td>\n",
       "    </tr>\n",
       "    <tr>\n",
       "      <th>3</th>\n",
       "      <td>DRR091077</td>\n",
       "      <td>rna-seq</td>\n",
       "    </tr>\n",
       "    <tr>\n",
       "      <th>4</th>\n",
       "      <td>DRR091078</td>\n",
       "      <td>rna-seq</td>\n",
       "    </tr>\n",
       "    <tr>\n",
       "      <th>...</th>\n",
       "      <td>...</td>\n",
       "      <td>...</td>\n",
       "    </tr>\n",
       "    <tr>\n",
       "      <th>416836</th>\n",
       "      <td>SRR10292306</td>\n",
       "      <td>rna-seq</td>\n",
       "    </tr>\n",
       "    <tr>\n",
       "      <th>416837</th>\n",
       "      <td>SRR10292307</td>\n",
       "      <td>rna-seq</td>\n",
       "    </tr>\n",
       "    <tr>\n",
       "      <th>416838</th>\n",
       "      <td>SRR10292308</td>\n",
       "      <td>rna-seq</td>\n",
       "    </tr>\n",
       "    <tr>\n",
       "      <th>416839</th>\n",
       "      <td>SRR10292309</td>\n",
       "      <td>rna-seq</td>\n",
       "    </tr>\n",
       "    <tr>\n",
       "      <th>416840</th>\n",
       "      <td>SRR10292310</td>\n",
       "      <td>rna-seq</td>\n",
       "    </tr>\n",
       "  </tbody>\n",
       "</table>\n",
       "<p>416841 rows × 2 columns</p>\n",
       "</div>"
      ],
      "text/plain": [
       "        external_id pattern.predict.type\n",
       "0         DRR091074              rna-seq\n",
       "1         DRR091075              rna-seq\n",
       "2         DRR091076              rna-seq\n",
       "3         DRR091077              rna-seq\n",
       "4         DRR091078              rna-seq\n",
       "...             ...                  ...\n",
       "416836  SRR10292306              rna-seq\n",
       "416837  SRR10292307              rna-seq\n",
       "416838  SRR10292308              rna-seq\n",
       "416839  SRR10292309              rna-seq\n",
       "416840  SRR10292310              rna-seq\n",
       "\n",
       "[416841 rows x 2 columns]"
      ]
     },
     "execution_count": 27,
     "metadata": {},
     "output_type": "execute_result"
    }
   ],
   "source": [
    "metadata = pd.read_csv(\"metadata/recount3_mouse_metadata.csv\")\n",
    "metadata = metadata[[\"external_id\", \"pattern.predict.type\"]]\n",
    "metadata"
   ]
  },
  {
   "cell_type": "code",
   "execution_count": 28,
   "id": "ce219096-380f-4a34-95f5-dfa985891a2f",
   "metadata": {},
   "outputs": [
    {
     "ename": "KeyError",
     "evalue": "\"['Sample ID', 'pattern.predict.type'] not in index\"",
     "output_type": "error",
     "traceback": [
      "\u001b[0;31m---------------------------------------------------------------------------\u001b[0m",
      "\u001b[0;31mKeyError\u001b[0m                                  Traceback (most recent call last)",
      "\u001b[0;32m/tmp/ipykernel_863678/1292982099.py\u001b[0m in \u001b[0;36m<module>\u001b[0;34m\u001b[0m\n\u001b[0;32m----> 1\u001b[0;31m \u001b[0mnew_obs\u001b[0m \u001b[0;34m=\u001b[0m \u001b[0mdata\u001b[0m\u001b[0;34m.\u001b[0m\u001b[0mobs\u001b[0m\u001b[0;34m.\u001b[0m\u001b[0mmerge\u001b[0m\u001b[0;34m(\u001b[0m\u001b[0mmetadata\u001b[0m\u001b[0;34m,\u001b[0m \u001b[0mhow\u001b[0m\u001b[0;34m=\u001b[0m\u001b[0;34m'left'\u001b[0m\u001b[0;34m,\u001b[0m \u001b[0mleft_on\u001b[0m\u001b[0;34m=\u001b[0m\u001b[0;34m\"Sample ID\"\u001b[0m\u001b[0;34m,\u001b[0m \u001b[0mright_on\u001b[0m\u001b[0;34m=\u001b[0m\u001b[0;34m\"external_id\"\u001b[0m\u001b[0;34m)\u001b[0m\u001b[0;34m[\u001b[0m\u001b[0;34m[\u001b[0m\u001b[0;34m\"Sample ID\"\u001b[0m\u001b[0;34m,\u001b[0m \u001b[0;34m\"project\"\u001b[0m\u001b[0;34m,\u001b[0m \u001b[0;34m\"pattern.predict.type\"\u001b[0m\u001b[0;34m]\u001b[0m\u001b[0;34m]\u001b[0m\u001b[0;34m\u001b[0m\u001b[0;34m\u001b[0m\u001b[0m\n\u001b[0m",
      "\u001b[0;32m~/.conda/envs/scbert/lib/python3.9/site-packages/pandas/core/frame.py\u001b[0m in \u001b[0;36m__getitem__\u001b[0;34m(self, key)\u001b[0m\n\u001b[1;32m   3462\u001b[0m             \u001b[0;32mif\u001b[0m \u001b[0mis_iterator\u001b[0m\u001b[0;34m(\u001b[0m\u001b[0mkey\u001b[0m\u001b[0;34m)\u001b[0m\u001b[0;34m:\u001b[0m\u001b[0;34m\u001b[0m\u001b[0;34m\u001b[0m\u001b[0m\n\u001b[1;32m   3463\u001b[0m                 \u001b[0mkey\u001b[0m \u001b[0;34m=\u001b[0m \u001b[0mlist\u001b[0m\u001b[0;34m(\u001b[0m\u001b[0mkey\u001b[0m\u001b[0;34m)\u001b[0m\u001b[0;34m\u001b[0m\u001b[0;34m\u001b[0m\u001b[0m\n\u001b[0;32m-> 3464\u001b[0;31m             \u001b[0mindexer\u001b[0m \u001b[0;34m=\u001b[0m \u001b[0mself\u001b[0m\u001b[0;34m.\u001b[0m\u001b[0mloc\u001b[0m\u001b[0;34m.\u001b[0m\u001b[0m_get_listlike_indexer\u001b[0m\u001b[0;34m(\u001b[0m\u001b[0mkey\u001b[0m\u001b[0;34m,\u001b[0m \u001b[0maxis\u001b[0m\u001b[0;34m=\u001b[0m\u001b[0;36m1\u001b[0m\u001b[0;34m)\u001b[0m\u001b[0;34m[\u001b[0m\u001b[0;36m1\u001b[0m\u001b[0;34m]\u001b[0m\u001b[0;34m\u001b[0m\u001b[0;34m\u001b[0m\u001b[0m\n\u001b[0m\u001b[1;32m   3465\u001b[0m \u001b[0;34m\u001b[0m\u001b[0m\n\u001b[1;32m   3466\u001b[0m         \u001b[0;31m# take() does not accept boolean indexers\u001b[0m\u001b[0;34m\u001b[0m\u001b[0;34m\u001b[0m\u001b[0m\n",
      "\u001b[0;32m~/.conda/envs/scbert/lib/python3.9/site-packages/pandas/core/indexing.py\u001b[0m in \u001b[0;36m_get_listlike_indexer\u001b[0;34m(self, key, axis)\u001b[0m\n\u001b[1;32m   1312\u001b[0m             \u001b[0mkeyarr\u001b[0m\u001b[0;34m,\u001b[0m \u001b[0mindexer\u001b[0m\u001b[0;34m,\u001b[0m \u001b[0mnew_indexer\u001b[0m \u001b[0;34m=\u001b[0m \u001b[0max\u001b[0m\u001b[0;34m.\u001b[0m\u001b[0m_reindex_non_unique\u001b[0m\u001b[0;34m(\u001b[0m\u001b[0mkeyarr\u001b[0m\u001b[0;34m)\u001b[0m\u001b[0;34m\u001b[0m\u001b[0;34m\u001b[0m\u001b[0m\n\u001b[1;32m   1313\u001b[0m \u001b[0;34m\u001b[0m\u001b[0m\n\u001b[0;32m-> 1314\u001b[0;31m         \u001b[0mself\u001b[0m\u001b[0;34m.\u001b[0m\u001b[0m_validate_read_indexer\u001b[0m\u001b[0;34m(\u001b[0m\u001b[0mkeyarr\u001b[0m\u001b[0;34m,\u001b[0m \u001b[0mindexer\u001b[0m\u001b[0;34m,\u001b[0m \u001b[0maxis\u001b[0m\u001b[0;34m)\u001b[0m\u001b[0;34m\u001b[0m\u001b[0;34m\u001b[0m\u001b[0m\n\u001b[0m\u001b[1;32m   1315\u001b[0m \u001b[0;34m\u001b[0m\u001b[0m\n\u001b[1;32m   1316\u001b[0m         if needs_i8_conversion(ax.dtype) or isinstance(\n",
      "\u001b[0;32m~/.conda/envs/scbert/lib/python3.9/site-packages/pandas/core/indexing.py\u001b[0m in \u001b[0;36m_validate_read_indexer\u001b[0;34m(self, key, indexer, axis)\u001b[0m\n\u001b[1;32m   1375\u001b[0m \u001b[0;34m\u001b[0m\u001b[0m\n\u001b[1;32m   1376\u001b[0m             \u001b[0mnot_found\u001b[0m \u001b[0;34m=\u001b[0m \u001b[0mlist\u001b[0m\u001b[0;34m(\u001b[0m\u001b[0mensure_index\u001b[0m\u001b[0;34m(\u001b[0m\u001b[0mkey\u001b[0m\u001b[0;34m)\u001b[0m\u001b[0;34m[\u001b[0m\u001b[0mmissing_mask\u001b[0m\u001b[0;34m.\u001b[0m\u001b[0mnonzero\u001b[0m\u001b[0;34m(\u001b[0m\u001b[0;34m)\u001b[0m\u001b[0;34m[\u001b[0m\u001b[0;36m0\u001b[0m\u001b[0;34m]\u001b[0m\u001b[0;34m]\u001b[0m\u001b[0;34m.\u001b[0m\u001b[0munique\u001b[0m\u001b[0;34m(\u001b[0m\u001b[0;34m)\u001b[0m\u001b[0;34m)\u001b[0m\u001b[0;34m\u001b[0m\u001b[0;34m\u001b[0m\u001b[0m\n\u001b[0;32m-> 1377\u001b[0;31m             \u001b[0;32mraise\u001b[0m \u001b[0mKeyError\u001b[0m\u001b[0;34m(\u001b[0m\u001b[0;34mf\"{not_found} not in index\"\u001b[0m\u001b[0;34m)\u001b[0m\u001b[0;34m\u001b[0m\u001b[0;34m\u001b[0m\u001b[0m\n\u001b[0m\u001b[1;32m   1378\u001b[0m \u001b[0;34m\u001b[0m\u001b[0m\n\u001b[1;32m   1379\u001b[0m \u001b[0;34m\u001b[0m\u001b[0m\n",
      "\u001b[0;31mKeyError\u001b[0m: \"['Sample ID', 'pattern.predict.type'] not in index\""
     ]
    }
   ],
   "source": [
    "new_obs = data.obs.merge(metadata, how='left', left_on=\"Sample ID\", right_on=\"external_id\")[[\"Sample ID\", \"project\", \"pattern.predict.type\"]] "
   ]
  },
  {
   "cell_type": "code",
   "execution_count": 31,
   "id": "1db6aba3-0187-4fb2-b95e-f36a2fba9d4d",
   "metadata": {},
   "outputs": [],
   "source": [
    "new_obs = new_obs.reset_index().set_index(\"Sample ID\", drop=False)"
   ]
  },
  {
   "cell_type": "code",
   "execution_count": 32,
   "id": "3fea58a7-681e-4dde-bc30-b8f0d16576b4",
   "metadata": {},
   "outputs": [],
   "source": [
    "data.obs = new_obs"
   ]
  },
  {
   "cell_type": "code",
   "execution_count": 36,
   "id": "ce45378e-d970-4da2-90e7-de5f15bd8ebd",
   "metadata": {},
   "outputs": [
    {
     "data": {
      "text/plain": [
       "AnnData object with n_obs × n_vars = 416803 × 55422\n",
       "    obs: 'Sample ID', 'project', 'pattern.predict.type'\n",
       "    var: 'Ensemble ID'"
      ]
     },
     "execution_count": 36,
     "metadata": {},
     "output_type": "execute_result"
    }
   ],
   "source": [
    "data"
   ]
  },
  {
   "cell_type": "code",
   "execution_count": 34,
   "id": "444ba5cd-0bff-4199-b864-c789faf1f01b",
   "metadata": {},
   "outputs": [
    {
     "data": {
      "text/html": [
       "<div>\n",
       "<style scoped>\n",
       "    .dataframe tbody tr th:only-of-type {\n",
       "        vertical-align: middle;\n",
       "    }\n",
       "\n",
       "    .dataframe tbody tr th {\n",
       "        vertical-align: top;\n",
       "    }\n",
       "\n",
       "    .dataframe thead th {\n",
       "        text-align: right;\n",
       "    }\n",
       "</style>\n",
       "<table border=\"1\" class=\"dataframe\">\n",
       "  <thead>\n",
       "    <tr style=\"text-align: right;\">\n",
       "      <th></th>\n",
       "      <th>Ensemble ID</th>\n",
       "    </tr>\n",
       "  </thead>\n",
       "  <tbody>\n",
       "    <tr>\n",
       "      <th>NO GENEID</th>\n",
       "      <td>ENSMUSG00000079800.2</td>\n",
       "    </tr>\n",
       "    <tr>\n",
       "      <th>NO GENEID</th>\n",
       "      <td>ENSMUSG00000095092.1</td>\n",
       "    </tr>\n",
       "    <tr>\n",
       "      <th>NO GENEID</th>\n",
       "      <td>ENSMUSG00000079192.2</td>\n",
       "    </tr>\n",
       "    <tr>\n",
       "      <th>NO GENEID</th>\n",
       "      <td>ENSMUSG00000079794.2</td>\n",
       "    </tr>\n",
       "    <tr>\n",
       "      <th>NO GENEID</th>\n",
       "      <td>ENSMUSG00000094799.1</td>\n",
       "    </tr>\n",
       "    <tr>\n",
       "      <th>...</th>\n",
       "      <td>...</td>\n",
       "    </tr>\n",
       "    <tr>\n",
       "      <th>MID1-PS1</th>\n",
       "      <td>ENSMUSG00000095134.2</td>\n",
       "    </tr>\n",
       "    <tr>\n",
       "      <th>GM47283</th>\n",
       "      <td>ENSMUSG00000096768.8</td>\n",
       "    </tr>\n",
       "    <tr>\n",
       "      <th>GM21748</th>\n",
       "      <td>ENSMUSG00000096850.1</td>\n",
       "    </tr>\n",
       "    <tr>\n",
       "      <th>GM21742</th>\n",
       "      <td>ENSMUSG00000099871.1</td>\n",
       "    </tr>\n",
       "    <tr>\n",
       "      <th>NO GENEID</th>\n",
       "      <td>project</td>\n",
       "    </tr>\n",
       "  </tbody>\n",
       "</table>\n",
       "<p>55422 rows × 1 columns</p>\n",
       "</div>"
      ],
      "text/plain": [
       "                    Ensemble ID\n",
       "NO GENEID  ENSMUSG00000079800.2\n",
       "NO GENEID  ENSMUSG00000095092.1\n",
       "NO GENEID  ENSMUSG00000079192.2\n",
       "NO GENEID  ENSMUSG00000079794.2\n",
       "NO GENEID  ENSMUSG00000094799.1\n",
       "...                         ...\n",
       "MID1-PS1   ENSMUSG00000095134.2\n",
       "GM47283    ENSMUSG00000096768.8\n",
       "GM21748    ENSMUSG00000096850.1\n",
       "GM21742    ENSMUSG00000099871.1\n",
       "NO GENEID               project\n",
       "\n",
       "[55422 rows x 1 columns]"
      ]
     },
     "execution_count": 34,
     "metadata": {},
     "output_type": "execute_result"
    }
   ],
   "source": [
    "data.var"
   ]
  },
  {
   "cell_type": "code",
   "execution_count": 37,
   "id": "f8ead141-fdd4-43da-8656-c4c17377ae4b",
   "metadata": {},
   "outputs": [
    {
     "name": "stderr",
     "output_type": "stream",
     "text": [
      "/home/kli3/.conda/envs/scbert/lib/python3.9/site-packages/IPython/core/interactiveshell.py:3457: DtypeWarning: Columns (9,10) have mixed types.Specify dtype option on import or set low_memory=False.\n",
      "  exec(code_obj, self.user_global_ns, self.user_ns)\n"
     ]
    }
   ],
   "source": [
    "metadata = pd.read_csv(\"metadata/recount3_mouse_metadata.csv\")"
   ]
  },
  {
   "cell_type": "code",
   "execution_count": 39,
   "id": "1c7dcb68-a42f-4370-93d3-c8a681881246",
   "metadata": {},
   "outputs": [
    {
     "data": {
      "text/html": [
       "<div>\n",
       "<style scoped>\n",
       "    .dataframe tbody tr th:only-of-type {\n",
       "        vertical-align: middle;\n",
       "    }\n",
       "\n",
       "    .dataframe tbody tr th {\n",
       "        vertical-align: top;\n",
       "    }\n",
       "\n",
       "    .dataframe thead th {\n",
       "        text-align: right;\n",
       "    }\n",
       "</style>\n",
       "<table border=\"1\" class=\"dataframe\">\n",
       "  <thead>\n",
       "    <tr style=\"text-align: right;\">\n",
       "      <th></th>\n",
       "      <th>external_id</th>\n",
       "      <th>study</th>\n",
       "    </tr>\n",
       "  </thead>\n",
       "  <tbody>\n",
       "    <tr>\n",
       "      <th>0</th>\n",
       "      <td>DRR091074</td>\n",
       "      <td>DRP003800</td>\n",
       "    </tr>\n",
       "    <tr>\n",
       "      <th>1</th>\n",
       "      <td>DRR091075</td>\n",
       "      <td>DRP003800</td>\n",
       "    </tr>\n",
       "    <tr>\n",
       "      <th>2</th>\n",
       "      <td>DRR091076</td>\n",
       "      <td>DRP003800</td>\n",
       "    </tr>\n",
       "    <tr>\n",
       "      <th>3</th>\n",
       "      <td>DRR091077</td>\n",
       "      <td>DRP003800</td>\n",
       "    </tr>\n",
       "    <tr>\n",
       "      <th>4</th>\n",
       "      <td>DRR091078</td>\n",
       "      <td>DRP003800</td>\n",
       "    </tr>\n",
       "    <tr>\n",
       "      <th>...</th>\n",
       "      <td>...</td>\n",
       "      <td>...</td>\n",
       "    </tr>\n",
       "    <tr>\n",
       "      <th>416836</th>\n",
       "      <td>SRR10292306</td>\n",
       "      <td>SRP225899</td>\n",
       "    </tr>\n",
       "    <tr>\n",
       "      <th>416837</th>\n",
       "      <td>SRR10292307</td>\n",
       "      <td>SRP225899</td>\n",
       "    </tr>\n",
       "    <tr>\n",
       "      <th>416838</th>\n",
       "      <td>SRR10292308</td>\n",
       "      <td>SRP225899</td>\n",
       "    </tr>\n",
       "    <tr>\n",
       "      <th>416839</th>\n",
       "      <td>SRR10292309</td>\n",
       "      <td>SRP225899</td>\n",
       "    </tr>\n",
       "    <tr>\n",
       "      <th>416840</th>\n",
       "      <td>SRR10292310</td>\n",
       "      <td>SRP225899</td>\n",
       "    </tr>\n",
       "  </tbody>\n",
       "</table>\n",
       "<p>416841 rows × 2 columns</p>\n",
       "</div>"
      ],
      "text/plain": [
       "        external_id      study\n",
       "0         DRR091074  DRP003800\n",
       "1         DRR091075  DRP003800\n",
       "2         DRR091076  DRP003800\n",
       "3         DRR091077  DRP003800\n",
       "4         DRR091078  DRP003800\n",
       "...             ...        ...\n",
       "416836  SRR10292306  SRP225899\n",
       "416837  SRR10292307  SRP225899\n",
       "416838  SRR10292308  SRP225899\n",
       "416839  SRR10292309  SRP225899\n",
       "416840  SRR10292310  SRP225899\n",
       "\n",
       "[416841 rows x 2 columns]"
      ]
     },
     "execution_count": 39,
     "metadata": {},
     "output_type": "execute_result"
    }
   ],
   "source": [
    "metadata = metadata[[\"external_id\", \"study\"]]\n",
    "metadata"
   ]
  },
  {
   "cell_type": "code",
   "execution_count": 42,
   "id": "75bdcc2d-ad18-4d89-92ee-60f7e8fd2a4d",
   "metadata": {},
   "outputs": [
    {
     "data": {
      "text/html": [
       "<div>\n",
       "<style scoped>\n",
       "    .dataframe tbody tr th:only-of-type {\n",
       "        vertical-align: middle;\n",
       "    }\n",
       "\n",
       "    .dataframe tbody tr th {\n",
       "        vertical-align: top;\n",
       "    }\n",
       "\n",
       "    .dataframe thead th {\n",
       "        text-align: right;\n",
       "    }\n",
       "</style>\n",
       "<table border=\"1\" class=\"dataframe\">\n",
       "  <thead>\n",
       "    <tr style=\"text-align: right;\">\n",
       "      <th></th>\n",
       "      <th>Sample ID</th>\n",
       "      <th>project</th>\n",
       "      <th>pattern.predict.type</th>\n",
       "      <th>study</th>\n",
       "    </tr>\n",
       "    <tr>\n",
       "      <th>external_id</th>\n",
       "      <th></th>\n",
       "      <th></th>\n",
       "      <th></th>\n",
       "      <th></th>\n",
       "    </tr>\n",
       "  </thead>\n",
       "  <tbody>\n",
       "    <tr>\n",
       "      <th>SRR8249400</th>\n",
       "      <td>SRR8249400</td>\n",
       "      <td>0</td>\n",
       "      <td>scrna-seq</td>\n",
       "      <td>SRP170963</td>\n",
       "    </tr>\n",
       "    <tr>\n",
       "      <th>SRR8249500</th>\n",
       "      <td>SRR8249500</td>\n",
       "      <td>0</td>\n",
       "      <td>scrna-seq</td>\n",
       "      <td>SRP170963</td>\n",
       "    </tr>\n",
       "    <tr>\n",
       "      <th>SRR8249300</th>\n",
       "      <td>SRR8249300</td>\n",
       "      <td>0</td>\n",
       "      <td>scrna-seq</td>\n",
       "      <td>SRP170963</td>\n",
       "    </tr>\n",
       "    <tr>\n",
       "      <th>SRR8249200</th>\n",
       "      <td>SRR8249200</td>\n",
       "      <td>0</td>\n",
       "      <td>scrna-seq</td>\n",
       "      <td>SRP170963</td>\n",
       "    </tr>\n",
       "    <tr>\n",
       "      <th>SRR8249401</th>\n",
       "      <td>SRR8249401</td>\n",
       "      <td>0</td>\n",
       "      <td>scrna-seq</td>\n",
       "      <td>SRP170963</td>\n",
       "    </tr>\n",
       "    <tr>\n",
       "      <th>...</th>\n",
       "      <td>...</td>\n",
       "      <td>...</td>\n",
       "      <td>...</td>\n",
       "      <td>...</td>\n",
       "    </tr>\n",
       "    <tr>\n",
       "      <th>SRR5445513</th>\n",
       "      <td>SRR5445513</td>\n",
       "      <td>10087</td>\n",
       "      <td>rna-seq</td>\n",
       "      <td>SRP103859</td>\n",
       "    </tr>\n",
       "    <tr>\n",
       "      <th>SRR5445514</th>\n",
       "      <td>SRR5445514</td>\n",
       "      <td>10087</td>\n",
       "      <td>rna-seq</td>\n",
       "      <td>SRP103859</td>\n",
       "    </tr>\n",
       "    <tr>\n",
       "      <th>SRR5445515</th>\n",
       "      <td>SRR5445515</td>\n",
       "      <td>10087</td>\n",
       "      <td>rna-seq</td>\n",
       "      <td>SRP103859</td>\n",
       "    </tr>\n",
       "    <tr>\n",
       "      <th>SRR5445516</th>\n",
       "      <td>SRR5445516</td>\n",
       "      <td>10087</td>\n",
       "      <td>rna-seq</td>\n",
       "      <td>SRP103859</td>\n",
       "    </tr>\n",
       "    <tr>\n",
       "      <th>SRR5445517</th>\n",
       "      <td>SRR5445517</td>\n",
       "      <td>10087</td>\n",
       "      <td>rna-seq</td>\n",
       "      <td>SRP103859</td>\n",
       "    </tr>\n",
       "  </tbody>\n",
       "</table>\n",
       "<p>416803 rows × 4 columns</p>\n",
       "</div>"
      ],
      "text/plain": [
       "              Sample ID  project pattern.predict.type      study\n",
       "external_id                                                     \n",
       "SRR8249400   SRR8249400        0            scrna-seq  SRP170963\n",
       "SRR8249500   SRR8249500        0            scrna-seq  SRP170963\n",
       "SRR8249300   SRR8249300        0            scrna-seq  SRP170963\n",
       "SRR8249200   SRR8249200        0            scrna-seq  SRP170963\n",
       "SRR8249401   SRR8249401        0            scrna-seq  SRP170963\n",
       "...                 ...      ...                  ...        ...\n",
       "SRR5445513   SRR5445513    10087              rna-seq  SRP103859\n",
       "SRR5445514   SRR5445514    10087              rna-seq  SRP103859\n",
       "SRR5445515   SRR5445515    10087              rna-seq  SRP103859\n",
       "SRR5445516   SRR5445516    10087              rna-seq  SRP103859\n",
       "SRR5445517   SRR5445517    10087              rna-seq  SRP103859\n",
       "\n",
       "[416803 rows x 4 columns]"
      ]
     },
     "execution_count": 42,
     "metadata": {},
     "output_type": "execute_result"
    }
   ],
   "source": [
    "new_obs2 = data.obs.merge(metadata, how='left', left_index=True, right_on=\"external_id\")\n",
    "new_obs2 = new_obs2.set_index(\"external_id\")\n",
    "new_obs2"
   ]
  },
  {
   "cell_type": "code",
   "execution_count": 43,
   "id": "f013c891-7502-4369-97b5-f45dab23b805",
   "metadata": {},
   "outputs": [
    {
     "data": {
      "text/plain": [
       "AnnData object with n_obs × n_vars = 416803 × 55422\n",
       "    obs: 'Sample ID', 'project', 'pattern.predict.type', 'study'\n",
       "    var: 'Ensemble ID'"
      ]
     },
     "execution_count": 43,
     "metadata": {},
     "output_type": "execute_result"
    }
   ],
   "source": [
    "data.obs = new_obs2\n",
    "data"
   ]
  },
  {
   "cell_type": "code",
   "execution_count": 44,
   "id": "f0bc80c7-c41c-4140-8862-e531c7d9812c",
   "metadata": {},
   "outputs": [],
   "source": [
    "data.write_h5ad(\"recount3/mouse_FULL_sparse_with_geneIDs_with_metadata.h5ad\")"
   ]
  },
  {
   "cell_type": "code",
   "execution_count": null,
   "id": "94adc426-6503-4447-b18b-5ee6183d6449",
   "metadata": {},
   "outputs": [],
   "source": []
  }
 ],
 "metadata": {
  "kernelspec": {
   "display_name": "Python [conda env:.conda-scbert]",
   "language": "python",
   "name": "conda-env-.conda-scbert-py"
  },
  "language_info": {
   "codemirror_mode": {
    "name": "ipython",
    "version": 3
   },
   "file_extension": ".py",
   "mimetype": "text/x-python",
   "name": "python",
   "nbconvert_exporter": "python",
   "pygments_lexer": "ipython3",
   "version": "3.9.15"
  }
 },
 "nbformat": 4,
 "nbformat_minor": 5
}
