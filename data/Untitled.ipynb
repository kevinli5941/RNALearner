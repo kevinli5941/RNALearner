{
 "cells": [
  {
   "cell_type": "code",
   "execution_count": 1,
   "id": "b42815d9-4d8d-47aa-9e66-d980b2c19156",
   "metadata": {},
   "outputs": [],
   "source": [
    "import scanpy as sc"
   ]
  },
  {
   "cell_type": "code",
   "execution_count": 4,
   "id": "3e87f075-225f-4e21-8695-9608ebe8ff78",
   "metadata": {},
   "outputs": [],
   "source": [
    "x = sc.read_h5ad(\"osd105/osd105_preprocessed_ensembl_15117.h5ad\")"
   ]
  },
  {
   "cell_type": "code",
   "execution_count": 6,
   "id": "b907ad38-a0dc-4c50-8f01-7e0901dea5d6",
   "metadata": {},
   "outputs": [
    {
     "data": {
      "text/plain": [
       "matrix([[0.0000000e+00, 0.0000000e+00, 0.0000000e+00, ..., 2.7500233e-01,\n",
       "         6.0749894e-01, 5.3586411e-01],\n",
       "        [0.0000000e+00, 0.0000000e+00, 6.7974243e-04, ..., 3.1129417e-01,\n",
       "         6.5206695e-01, 5.1248145e-01],\n",
       "        [0.0000000e+00, 0.0000000e+00, 3.1550697e-04, ..., 3.2040483e-01,\n",
       "         6.3924032e-01, 5.2700311e-01],\n",
       "        ...,\n",
       "        [0.0000000e+00, 0.0000000e+00, 3.6404995e-04, ..., 2.6531401e-01,\n",
       "         6.6402185e-01, 5.3979397e-01],\n",
       "        [3.7122966e-04, 3.7122966e-04, 0.0000000e+00, ..., 2.6020002e-01,\n",
       "         6.3796556e-01, 5.2613729e-01],\n",
       "        [0.0000000e+00, 0.0000000e+00, 6.5800955e-04, ..., 2.9990819e-01,\n",
       "         6.5057677e-01, 5.4333943e-01]], dtype=float32)"
      ]
     },
     "execution_count": 6,
     "metadata": {},
     "output_type": "execute_result"
    }
   ],
   "source": [
    "x.X.todense()"
   ]
  },
  {
   "cell_type": "code",
   "execution_count": 8,
   "id": "7989c42e-b168-431e-a9ff-db54c8892e67",
   "metadata": {},
   "outputs": [],
   "source": [
    "y = sc.read_h5ad(\"recount3/preprocessed_mouse_gene2vec_15117_compatible_bulk_only.h5ad\")"
   ]
  },
  {
   "cell_type": "code",
   "execution_count": 9,
   "id": "41713064-6fee-46eb-9cd7-7ed84d92702e",
   "metadata": {},
   "outputs": [
    {
     "data": {
      "text/plain": [
       "matrix([[0.        , 0.        , 0.38186035, ..., 0.0237466 , 0.35430166,\n",
       "         0.03884022],\n",
       "        [0.        , 0.        , 0.02234006, ..., 0.44543138, 0.48093814,\n",
       "         0.00453992],\n",
       "        [0.        , 0.        , 0.02361232, ..., 0.12287001, 0.4451421 ,\n",
       "         0.2805134 ],\n",
       "        ...,\n",
       "        [0.        , 0.        , 0.00461183, ..., 0.7213259 , 0.6231937 ,\n",
       "         0.4905972 ],\n",
       "        [0.        , 0.        , 0.00322226, ..., 0.7163704 , 0.74135613,\n",
       "         0.4528279 ],\n",
       "        [0.        , 0.        , 0.00138532, ..., 0.68975973, 0.69499433,\n",
       "         0.47394115]], dtype=float32)"
      ]
     },
     "execution_count": 9,
     "metadata": {},
     "output_type": "execute_result"
    }
   ],
   "source": [
    "y.X.todense()"
   ]
  },
  {
   "cell_type": "code",
   "execution_count": 10,
   "id": "081df339-1dfb-4aae-bf0d-4e3f30018ab3",
   "metadata": {},
   "outputs": [
    {
     "data": {
      "text/plain": [
       "0.63796556"
      ]
     },
     "execution_count": 10,
     "metadata": {},
     "output_type": "execute_result"
    }
   ],
   "source": [
    "6.3796556e-01"
   ]
  },
  {
   "cell_type": "code",
   "execution_count": 2,
   "id": "3c108da7-0c5f-4a93-b900-a0c2d95175a0",
   "metadata": {},
   "outputs": [
    {
     "data": {
      "text/plain": [
       "AnnData object with n_obs × n_vars = 6524 × 15117\n",
       "    obs: 'Sample ID', 'project', 'pattern.predict.type', 'study', 'n_genes', 'kmeans30'\n",
       "    var: 'Ensemble ID'\n",
       "    uns: 'kmeans30_colors', 'log1p', 'neighbors', 'pca', 'umap'\n",
       "    obsm: 'X_pca', 'X_umap'\n",
       "    varm: 'PCs'\n",
       "    obsp: 'connectivities', 'distances'"
      ]
     },
     "execution_count": 2,
     "metadata": {},
     "output_type": "execute_result"
    }
   ],
   "source": [
    "data = sc.read_h5ad(\"recount3/kmeans30/preprocessed_mouse_gene2vec_15117_compatible_bulk_only_cluster_1.h5ad\")\n",
    "data"
   ]
  },
  {
   "cell_type": "code",
   "execution_count": 3,
   "id": "d57bffbe-9a44-4738-85ce-49c6019bdfd9",
   "metadata": {},
   "outputs": [
    {
     "data": {
      "text/plain": [
       "AnnData object with n_obs × n_vars = 205297 × 15117\n",
       "    obs: 'Sample ID', 'project', 'pattern.predict.type', 'study', 'n_genes'\n",
       "    var: 'Ensemble ID'\n",
       "    uns: 'log1p'"
      ]
     },
     "execution_count": 3,
     "metadata": {},
     "output_type": "execute_result"
    }
   ],
   "source": [
    "data_full = sc.read_h5ad(\"recount3/preprocessed_mouse_gene2vec_15117_compatible_bulk_only.h5ad\")\n",
    "data_full"
   ]
  },
  {
   "cell_type": "code",
   "execution_count": 6,
   "id": "ad5b6985-94e0-453c-a87c-aa24d8aafad0",
   "metadata": {},
   "outputs": [
    {
     "data": {
      "text/plain": [
       "<6524x15117 sparse matrix of type '<class 'numpy.float32'>'\n",
       "\twith 75223614 stored elements in Compressed Sparse Row format>"
      ]
     },
     "execution_count": 6,
     "metadata": {},
     "output_type": "execute_result"
    }
   ],
   "source": [
    "data.X"
   ]
  },
  {
   "cell_type": "code",
   "execution_count": null,
   "id": "430fa97c-aa0a-48d6-b943-9008f422edb4",
   "metadata": {},
   "outputs": [],
   "source": []
  }
 ],
 "metadata": {
  "kernelspec": {
   "display_name": "Python [conda env:.conda-scbert]",
   "language": "python",
   "name": "conda-env-.conda-scbert-py"
  },
  "language_info": {
   "codemirror_mode": {
    "name": "ipython",
    "version": 3
   },
   "file_extension": ".py",
   "mimetype": "text/x-python",
   "name": "python",
   "nbconvert_exporter": "python",
   "pygments_lexer": "ipython3",
   "version": "3.9.15"
  }
 },
 "nbformat": 4,
 "nbformat_minor": 5
}
