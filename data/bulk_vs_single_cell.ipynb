{
 "cells": [
  {
   "cell_type": "code",
   "execution_count": 1,
   "id": "64df5407-1e97-49e9-b235-daef09ae8986",
   "metadata": {},
   "outputs": [],
   "source": [
    "import pandas as pd\n",
    "import h5py\n",
    "import scanpy as sc\n",
    "from scipy import sparse"
   ]
  },
  {
   "cell_type": "code",
   "execution_count": 3,
   "id": "63ffc761-e24b-41af-9d05-ab3858f76dd6",
   "metadata": {},
   "outputs": [],
   "source": [
    "data = sc.read_h5ad('recount3/preprocessed_mouse_gene2vec_compatible21823.h5ad')"
   ]
  },
  {
   "cell_type": "code",
   "execution_count": 8,
   "id": "58973827-f5a0-4f2a-8d2f-16d9289eb12a",
   "metadata": {},
   "outputs": [],
   "source": [
    "bulk_only = data[data.obs[\"pattern.predict.type\"] == \"rna-seq\", :]"
   ]
  },
  {
   "cell_type": "code",
   "execution_count": 9,
   "id": "c64b9cfc-d1b0-4ba3-92eb-c69c73397fae",
   "metadata": {},
   "outputs": [],
   "source": [
    "sc_only = data[data.obs[\"pattern.predict.type\"] == \"scrna-seq\", :]"
   ]
  },
  {
   "cell_type": "code",
   "execution_count": 10,
   "id": "5fb219d3-d711-4393-ae33-59da67cad6d8",
   "metadata": {},
   "outputs": [
    {
     "data": {
      "text/plain": [
       "View of AnnData object with n_obs × n_vars = 204938 × 15117\n",
       "    obs: 'Sample ID', 'project', 'pattern.predict.type', 'study', 'n_genes'\n",
       "    var: 'Ensemble ID'\n",
       "    uns: 'log1p'"
      ]
     },
     "execution_count": 10,
     "metadata": {},
     "output_type": "execute_result"
    }
   ],
   "source": [
    "sc_only"
   ]
  },
  {
   "cell_type": "code",
   "execution_count": 11,
   "id": "ef814820-462e-4f83-a487-200df8062d0b",
   "metadata": {},
   "outputs": [],
   "source": [
    "bulk_only.write_h5ad('recount3/preprocessed_mouse_gene2vec_compatible21823_bulk_only.h5ad')"
   ]
  },
  {
   "cell_type": "code",
   "execution_count": 12,
   "id": "887b06b6-522e-47f5-b293-d155d3bf7dd9",
   "metadata": {},
   "outputs": [],
   "source": [
    "sc_only.write_h5ad('recount3/preprocessed_mouse_gene2vec_compatible21823_sc_only.h5ad')"
   ]
  },
  {
   "cell_type": "code",
   "execution_count": null,
   "id": "cdbe266f-1608-4746-b9ed-4f353192fe71",
   "metadata": {},
   "outputs": [],
   "source": []
  }
 ],
 "metadata": {
  "kernelspec": {
   "display_name": "Python [conda env:.conda-scbert]",
   "language": "python",
   "name": "conda-env-.conda-scbert-py"
  },
  "language_info": {
   "codemirror_mode": {
    "name": "ipython",
    "version": 3
   },
   "file_extension": ".py",
   "mimetype": "text/x-python",
   "name": "python",
   "nbconvert_exporter": "python",
   "pygments_lexer": "ipython3",
   "version": "3.9.15"
  }
 },
 "nbformat": 4,
 "nbformat_minor": 5
}
