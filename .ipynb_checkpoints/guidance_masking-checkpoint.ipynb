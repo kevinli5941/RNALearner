{
 "cells": [
  {
   "cell_type": "code",
   "execution_count": 50,
   "id": "5edd6489-b027-4196-b0c7-61c2ac102920",
   "metadata": {},
   "outputs": [],
   "source": [
    "import os\n",
    "import gc\n",
    "import argparse\n",
    "import json\n",
    "import random\n",
    "import math\n",
    "import random\n",
    "from functools import reduce\n",
    "import numpy as np\n",
    "import pandas as pd\n",
    "from scipy import sparse\n",
    "from sklearn.model_selection import train_test_split\n",
    "import torch\n",
    "from torch import nn\n",
    "from torch.optim import Adam\n",
    "from torch.nn import functional as F\n",
    "from torch.utils.data import DataLoader, Dataset\n",
    "from torch.utils.data.distributed import DistributedSampler\n",
    "from torch.nn.parallel import DistributedDataParallel as DDP\n",
    "import torch.distributed as dist\n",
    "from performer_pytorch import PerformerLM\n",
    "import scanpy as sc\n",
    "import anndata as ad\n",
    "from utils import *"
   ]
  },
  {
   "cell_type": "code",
   "execution_count": 51,
   "id": "b325ece3-810e-4fd1-9520-66a76b158f04",
   "metadata": {},
   "outputs": [],
   "source": [
    "path = \"ckpts/recount3_mouse_15117_bulk_pretrain_10.pth\"\n",
    "ckpt = torch.load(path)"
   ]
  },
  {
   "cell_type": "code",
   "execution_count": 52,
   "id": "78ae85a2-63cd-4e9e-8e50-a00cc53e622b",
   "metadata": {},
   "outputs": [
    {
     "data": {
      "text/plain": [
       "91"
      ]
     },
     "execution_count": 52,
     "metadata": {},
     "output_type": "execute_result"
    }
   ],
   "source": [
    "len(ckpt['model_state_dict'].keys())"
   ]
  },
  {
   "cell_type": "code",
   "execution_count": 57,
   "id": "ab35509f-ae3e-45af-81ec-bc33d9ab29ce",
   "metadata": {},
   "outputs": [],
   "source": [
    "mask_name = \"mask17guidepred\"\n",
    "def create_mask(cousins, begins, model_checkpoint):\n",
    "    def _compute_mask(model, cousin_dict_list):\n",
    "        def learning_spread(model, cousin):\n",
    "            ls = torch.mean((cousin - model) ** 2, 0)\n",
    "            min_ls = torch.min(ls)\n",
    "            max_ls = torch.max(ls)\n",
    "            spread = max_ls - min_ls\n",
    "            if spread == 0:\n",
    "                return (ls - min_ls) * 0\n",
    "            return (ls - min_ls) / spread\n",
    "\n",
    "        out_mask = {}\n",
    "        model_dict = model\n",
    "\n",
    "        cousins = {}\n",
    "        bs = {}\n",
    "        for x in range(len(cousin_dict_list)):\n",
    "            cousin_dict = cousin_dict_list[x]\n",
    "            begin_dict = begins[x]\n",
    "            # for name, param in model_dict.items():\n",
    "            for name, param in begin_dict.items():\n",
    "                if name in cousin_dict:\n",
    "                    cousins.setdefault(name, [])\n",
    "                    bs.setdefault(name, [])\n",
    "                    cousins[name].append(cousin_dict[name])  # TODO: this should be done differently...\n",
    "                    bs[name].append(begin_dict[name])\n",
    "        #for name, param in model_dict.items():\n",
    "        for name in begins[0]:\n",
    "            if name in cousins:\n",
    "                if name in model_dict:\n",
    "                    out_mask[name] = learning_spread(model_dict[name].float(), torch.stack(cousins[name]))\n",
    "                else:\n",
    "                    out_mask[name] = learning_spread(torch.stack(bs[name]), torch.stack(cousins[name]))\n",
    "\n",
    "        return out_mask\n",
    "    \n",
    "#     bin_num = 7\n",
    "#     CLASS = bin_num + 2\n",
    "    \n",
    "#     gene_num = 15117\n",
    "#     SEQ_LEN = gene_num + 1\n",
    "    \n",
    "#     pos_embed = True\n",
    "#     POS_EMBED_USING = pos_embed\n",
    "    \n",
    "#     model = PerformerLM(\n",
    "#         num_tokens = CLASS,\n",
    "#         dim = 200,\n",
    "#         depth = 6,\n",
    "#         max_seq_len = SEQ_LEN,\n",
    "#         heads = 10,\n",
    "#         local_attn_heads = 0,\n",
    "#         g2v_position_emb = POS_EMBED_USING\n",
    "#     )\n",
    "\n",
    "    ckpt = torch.load(model_checkpoint,  map_location = torch.device('cpu'))\n",
    "    model = ckpt['model_state_dict']\n",
    "    #print(model)\n",
    "    \n",
    "    mask = _compute_mask(model, cousins)\n",
    "    torch.save(mask, f'masks/{mask_name}.pt')\n",
    "    return mask"
   ]
  },
  {
   "cell_type": "code",
   "execution_count": 58,
   "id": "a57d4bbe-a907-4363-afc5-0bb6def4774c",
   "metadata": {},
   "outputs": [],
   "source": [
    "model_checkpoint = \"ckpts/recount3_mouse_15117_bulk_pretrain_continuation_1_bs_3_lr10e4_16.pth\"\n",
    "cousins = []\n",
    "begins = []\n",
    "for i in range(1, 18):\n",
    "    path = f\"ckpts/scout_pairs_{i}_best.pth\"\n",
    "    begin_path = f\"ckpts/scout_pairs_{i}_begin.pth\"\n",
    "    cousins.append(torch.load(path, map_location = torch.device('cpu'))[\"model_state_dict\"])\n",
    "    begins.append(torch.load(begin_path, map_location = torch.device('cpu'))[\"model_state_dict\"])\n"
   ]
  },
  {
   "cell_type": "code",
   "execution_count": 59,
   "id": "75892ae9-07b1-42e7-9868-8986350f4a4c",
   "metadata": {},
   "outputs": [],
   "source": [
    "mask = create_mask(cousins, begins, model_checkpoint)"
   ]
  },
  {
   "cell_type": "code",
   "execution_count": 31,
   "id": "d2f49ea5-3113-44b6-85a9-e97773306fb5",
   "metadata": {},
   "outputs": [
    {
     "data": {
      "text/plain": [
       "89"
      ]
     },
     "execution_count": 31,
     "metadata": {},
     "output_type": "execute_result"
    }
   ],
   "source": [
    "len(torch.load(\"masks/mask20.pt\"))"
   ]
  },
  {
   "cell_type": "code",
   "execution_count": 60,
   "id": "677d785c-c0aa-4040-88f6-8833ecc9c483",
   "metadata": {},
   "outputs": [
    {
     "data": {
      "text/plain": [
       "97"
      ]
     },
     "execution_count": 60,
     "metadata": {},
     "output_type": "execute_result"
    }
   ],
   "source": [
    "len(torch.load(\"masks/mask17guidepred.pt\"))"
   ]
  },
  {
   "cell_type": "code",
   "execution_count": 49,
   "id": "4e37ca12-45de-418e-a9ed-99792d03387d",
   "metadata": {},
   "outputs": [
    {
     "data": {
      "text/plain": [
       "0.25"
      ]
     },
     "execution_count": 49,
     "metadata": {},
     "output_type": "execute_result"
    }
   ],
   "source": [
    "np.count_nonzero(mask['to_out.conv1.weight'] > 0.5)/np.count_nonzero(mask['to_out.conv1.weight'] > -1)"
   ]
  },
  {
   "cell_type": "code",
   "execution_count": null,
   "id": "02e983d7-ac78-477a-823b-39150afe1732",
   "metadata": {},
   "outputs": [],
   "source": []
  }
 ],
 "metadata": {
  "kernelspec": {
   "display_name": "Python [conda env:.conda-scbert]",
   "language": "python",
   "name": "conda-env-.conda-scbert-py"
  },
  "language_info": {
   "codemirror_mode": {
    "name": "ipython",
    "version": 3
   },
   "file_extension": ".py",
   "mimetype": "text/x-python",
   "name": "python",
   "nbconvert_exporter": "python",
   "pygments_lexer": "ipython3",
   "version": "3.9.15"
  }
 },
 "nbformat": 4,
 "nbformat_minor": 5
}
