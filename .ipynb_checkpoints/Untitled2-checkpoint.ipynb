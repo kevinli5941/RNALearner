{
 "cells": [
  {
   "cell_type": "code",
   "execution_count": 1,
   "id": "3e02a3d8-fffc-490c-8b8f-5da4ae0c5209",
   "metadata": {},
   "outputs": [],
   "source": [
    "# -*- coding: utf-8 -*-\n",
    "import os\n",
    "import gc\n",
    "import argparse\n",
    "import json\n",
    "import random\n",
    "import math\n",
    "import random\n",
    "from functools import reduce\n",
    "import numpy as np\n",
    "import pandas as pd\n",
    "from scipy import sparse\n",
    "from sklearn.model_selection import train_test_split, ShuffleSplit, StratifiedShuffleSplit, StratifiedKFold\n",
    "from sklearn.metrics import accuracy_score, f1_score, confusion_matrix, precision_recall_fscore_support, classification_report\n",
    "import torch\n",
    "from torch import nn\n",
    "from torch.optim import Adam, SGD, AdamW\n",
    "from torch.nn import functional as F\n",
    "from torch.optim.lr_scheduler import StepLR, CosineAnnealingWarmRestarts, CyclicLR\n",
    "from torch.utils.data import DataLoader, Dataset, SequentialSampler\n",
    "from torch.utils.data.distributed import DistributedSampler\n",
    "from torch.nn.parallel import DistributedDataParallel as DDP\n",
    "import torch.distributed as dist\n",
    "\n",
    "from performer_pytorch import PerformerLM\n",
    "import scanpy as sc\n",
    "import anndata as ad\n",
    "from utils import *\n",
    "\n",
    "import matplotlib.pyplot as plt\n"
   ]
  },
  {
   "cell_type": "code",
   "execution_count": 2,
   "id": "c242d7b6-47df-45a5-8de0-e262c4f1f4a7",
   "metadata": {},
   "outputs": [
    {
     "data": {
      "text/plain": [
       "89"
      ]
     },
     "execution_count": 2,
     "metadata": {},
     "output_type": "execute_result"
    }
   ],
   "source": [
    "x = torch.load(\"masks/mask20.pt\", map_location = \"cpu\")\n",
    "len(x)"
   ]
  },
  {
   "cell_type": "code",
   "execution_count": 13,
   "id": "148e19e3-a57a-4176-a077-e0a4f5411209",
   "metadata": {},
   "outputs": [
    {
     "data": {
      "text/plain": [
       "91"
      ]
     },
     "execution_count": 13,
     "metadata": {},
     "output_type": "execute_result"
    }
   ],
   "source": [
    "path = \"ckpts/recount3_mouse_15117_bulk_pretrain_continuation_1_bs_3_lr10e4_16.pth\"\n",
    "ckpt = torch.load(path, map_location  = \"cpu\")\n",
    "d = ckpt['model_state_dict']\n",
    "len(d.keys())"
   ]
  },
  {
   "cell_type": "code",
   "execution_count": 12,
   "id": "2c30cd59-1c08-41e3-910c-901faebdee2b",
   "metadata": {},
   "outputs": [
    {
     "data": {
      "text/plain": [
       "97"
      ]
     },
     "execution_count": 12,
     "metadata": {},
     "output_type": "execute_result"
    }
   ],
   "source": [
    "i = 1\n",
    "p = f\"ckpts/scout_pairs_{i}_best.pth\"\n",
    "ck = torch.load(p, map_location = \"cpu\")\n",
    "s = ck['model_state_dict']\n",
    "len(s.keys())"
   ]
  },
  {
   "cell_type": "code",
   "execution_count": 10,
   "id": "39398caf-5c42-4ccb-899e-1009b1a01236",
   "metadata": {},
   "outputs": [
    {
     "data": {
      "text/plain": [
       "{'to_out.conv1.bias',\n",
       " 'to_out.conv1.weight',\n",
       " 'to_out.fc1.bias',\n",
       " 'to_out.fc1.weight',\n",
       " 'to_out.fc2.bias',\n",
       " 'to_out.fc2.weight',\n",
       " 'to_out.fc3.bias',\n",
       " 'to_out.fc3.weight'}"
      ]
     },
     "execution_count": 10,
     "metadata": {},
     "output_type": "execute_result"
    }
   ],
   "source": [
    "set(s.keys()).difference(set(d.keys()))"
   ]
  },
  {
   "cell_type": "code",
   "execution_count": 23,
   "id": "410b9eab-1281-4db2-83c4-da218213154d",
   "metadata": {},
   "outputs": [
    {
     "data": {
      "text/plain": [
       "tensor([[ 9.0988e-07,  2.3063e-05, -2.6924e-08,  ...,  4.3529e-06,\n",
       "         -1.4596e-05, -5.9803e-06],\n",
       "        [-2.9091e-07, -7.3995e-07,  2.0521e-10,  ..., -2.1381e-08,\n",
       "         -2.6261e-03, -2.6938e-04],\n",
       "        [ 2.8602e-04, -7.8798e-06,  7.8674e-07,  ...,  3.2424e-08,\n",
       "         -2.2044e-08, -6.2798e-07],\n",
       "        ...,\n",
       "        [-2.7827e-04, -1.5857e-05,  6.2554e-06,  ...,  7.2772e-06,\n",
       "         -1.0843e-04, -1.6963e-04],\n",
       "        [-2.8137e-04, -1.0815e-07,  4.7968e-04,  ...,  6.4021e-07,\n",
       "         -3.9765e-05, -7.6992e-05],\n",
       "        [ 0.0000e+00,  0.0000e+00,  0.0000e+00,  ...,  0.0000e+00,\n",
       "          0.0000e+00,  0.0000e+00]], dtype=torch.float64)"
      ]
     },
     "execution_count": 23,
     "metadata": {},
     "output_type": "execute_result"
    }
   ],
   "source": [
    "s['pos_emb.emb.weight'] * x['pos_emb.emb.weight']"
   ]
  },
  {
   "cell_type": "code",
   "execution_count": 22,
   "id": "698aed42-5fcb-4d39-b0f6-24d5fa4189af",
   "metadata": {},
   "outputs": [
    {
     "data": {
      "text/plain": [
       "tensor([[ 0.0990,  0.0662, -0.0348,  ...,  0.1936, -0.1781, -0.2365],\n",
       "        [-0.0231, -0.2780,  0.0056,  ..., -0.0612, -0.3870, -0.2956],\n",
       "        [ 0.3397, -0.0352,  0.1099,  ...,  0.0544, -0.0337, -0.2116],\n",
       "        ...,\n",
       "        [-0.2608, -0.0656,  0.2235,  ...,  0.0416, -0.2271, -0.1598],\n",
       "        [-0.3096, -0.0099,  0.3322,  ...,  0.2151, -0.1791, -0.1347],\n",
       "        [ 0.0000,  0.0000,  0.0000,  ...,  0.0000,  0.0000,  0.0000]],\n",
       "       dtype=torch.float64)"
      ]
     },
     "execution_count": 22,
     "metadata": {},
     "output_type": "execute_result"
    }
   ],
   "source": [
    "s['pos_emb.emb.weight']"
   ]
  },
  {
   "cell_type": "code",
   "execution_count": 21,
   "id": "456fa318-6658-402d-993f-7f93603c4eb6",
   "metadata": {},
   "outputs": [
    {
     "data": {
      "text/plain": [
       "tensor([[9.1892e-06, 3.4815e-04, 7.7373e-07,  ..., 2.2489e-05, 8.1948e-05,\n",
       "         2.5288e-05],\n",
       "        [1.2585e-05, 2.6613e-06, 3.6845e-08,  ..., 3.4945e-07, 6.7862e-03,\n",
       "         9.1120e-04],\n",
       "        [8.4208e-04, 2.2376e-04, 7.1570e-06,  ..., 5.9581e-07, 6.5368e-07,\n",
       "         2.9679e-06],\n",
       "        ...,\n",
       "        [1.0671e-03, 2.4171e-04, 2.7988e-05,  ..., 1.7477e-04, 4.7754e-04,\n",
       "         1.0616e-03],\n",
       "        [9.0898e-04, 1.0937e-05, 1.4438e-03,  ..., 2.9768e-06, 2.2200e-04,\n",
       "         5.7141e-04],\n",
       "        [0.0000e+00, 0.0000e+00, 0.0000e+00,  ..., 0.0000e+00, 0.0000e+00,\n",
       "         0.0000e+00]], dtype=torch.float64)"
      ]
     },
     "execution_count": 21,
     "metadata": {},
     "output_type": "execute_result"
    }
   ],
   "source": [
    "x['pos_emb.emb.weight']"
   ]
  },
  {
   "cell_type": "code",
   "execution_count": 27,
   "id": "5f48571a-3485-434d-8ffb-ba1345b9bb5a",
   "metadata": {},
   "outputs": [
    {
     "data": {
      "text/plain": [
       "tensor(2.3063e-05, dtype=torch.float64)"
      ]
     },
     "execution_count": 27,
     "metadata": {},
     "output_type": "execute_result"
    }
   ],
   "source": [
    "s['pos_emb.emb.weight'][0][1] * x['pos_emb.emb.weight'][0][1]"
   ]
  },
  {
   "cell_type": "code",
   "execution_count": null,
   "id": "e02ba380-14cc-4964-b4f6-58a411fbb00b",
   "metadata": {},
   "outputs": [],
   "source": []
  }
 ],
 "metadata": {
  "kernelspec": {
   "display_name": "Python [conda env:.conda-scbert]",
   "language": "python",
   "name": "conda-env-.conda-scbert-py"
  },
  "language_info": {
   "codemirror_mode": {
    "name": "ipython",
    "version": 3
   },
   "file_extension": ".py",
   "mimetype": "text/x-python",
   "name": "python",
   "nbconvert_exporter": "python",
   "pygments_lexer": "ipython3",
   "version": "3.9.15"
  }
 },
 "nbformat": 4,
 "nbformat_minor": 5
}
