{
 "cells": [
  {
   "cell_type": "code",
   "execution_count": 1,
   "id": "95536feb-d518-4550-8aa1-c0c57f61840a",
   "metadata": {},
   "outputs": [],
   "source": [
    "import numpy as np"
   ]
  },
  {
   "cell_type": "code",
   "execution_count": 2,
   "id": "5ecc8b8b-bb87-4bd6-85b9-f7a9d9992983",
   "metadata": {},
   "outputs": [
    {
     "data": {
      "text/plain": [
       "array([[ 0.09901641,  0.0662446 , -0.03479731, ...,  0.19355905,\n",
       "        -0.17810692, -0.23648332],\n",
       "       [-0.0231158 , -0.27804175,  0.00556953, ..., -0.06118472,\n",
       "        -0.3869796 , -0.29563326],\n",
       "       [ 0.3396593 , -0.03521475,  0.10992636, ...,  0.05442015,\n",
       "        -0.03372279, -0.21158807],\n",
       "       ...,\n",
       "       [ 0.05376892,  0.52095246, -0.3172579 , ..., -0.54031646,\n",
       "         0.28382194, -0.01649508],\n",
       "       [-0.26076987, -0.06560467,  0.22349967, ...,  0.04163879,\n",
       "        -0.22705887, -0.15978856],\n",
       "       [-0.30955055, -0.00988862,  0.33223546, ...,  0.21506314,\n",
       "        -0.17912467, -0.13473967]])"
      ]
     },
     "execution_count": 2,
     "metadata": {},
     "output_type": "execute_result"
    }
   ],
   "source": [
    "np.load(\"../data/gene2vec/gene2vec_15117_compatible.npy\")"
   ]
  },
  {
   "cell_type": "code",
   "execution_count": null,
   "id": "90e8557c-d1eb-41f8-942b-2f626c8ed885",
   "metadata": {},
   "outputs": [],
   "source": []
  }
 ],
 "metadata": {
  "kernelspec": {
   "display_name": "Python [conda env:.conda-scbert]",
   "language": "python",
   "name": "conda-env-.conda-scbert-py"
  },
  "language_info": {
   "codemirror_mode": {
    "name": "ipython",
    "version": 3
   },
   "file_extension": ".py",
   "mimetype": "text/x-python",
   "name": "python",
   "nbconvert_exporter": "python",
   "pygments_lexer": "ipython3",
   "version": "3.9.15"
  }
 },
 "nbformat": 4,
 "nbformat_minor": 5
}
